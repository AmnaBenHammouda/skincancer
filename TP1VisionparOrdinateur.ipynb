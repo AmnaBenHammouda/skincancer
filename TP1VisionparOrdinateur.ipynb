{
  "nbformat": 4,
  "nbformat_minor": 0,
  "metadata": {
    "colab": {
      "provenance": [],
      "gpuType": "T4",
      "authorship_tag": "ABX9TyNkEbjR6gerOXUR96fyHufl",
      "include_colab_link": true
    },
    "kernelspec": {
      "name": "python3",
      "display_name": "Python 3"
    },
    "language_info": {
      "name": "python"
    },
    "accelerator": "GPU"
  },
  "cells": [
    {
      "cell_type": "markdown",
      "metadata": {
        "id": "view-in-github",
        "colab_type": "text"
      },
      "source": [
        "<a href=\"https://colab.research.google.com/github/AmnaBenHammouda/skincancer/blob/master/TP1VisionparOrdinateur.ipynb\" target=\"_parent\"><img src=\"https://colab.research.google.com/assets/colab-badge.svg\" alt=\"Open In Colab\"/></a>"
      ]
    },
    {
      "cell_type": "code",
      "execution_count": null,
      "metadata": {
        "id": "_Prm7940JwIT"
      },
      "outputs": [],
      "source": []
    },
    {
      "cell_type": "markdown",
      "source": [
        "#importer le bibliotheque"
      ],
      "metadata": {
        "id": "WoWmkDYANnn3"
      }
    },
    {
      "cell_type": "code",
      "source": [
        "import datetime\n",
        "import matplotlib.pyplot as plt\n",
        "import torch\n",
        "import torch.nn as nn\n",
        "import torch.nn.functional as F\n",
        "from torch.optim  import  Adam\n",
        "from torch.utils.data import  random_split, DataLoader\n",
        "from torchvision.transforms import Compose, ToTensor, Normalize\n",
        "from torchvision.datasets import MNIST\n",
        "from tensorflow import summary\n"
      ],
      "metadata": {
        "id": "pkX_k5XLNvGa"
      },
      "execution_count": null,
      "outputs": []
    },
    {
      "cell_type": "markdown",
      "source": [
        "#data preparetion"
      ],
      "metadata": {
        "id": "xzpypZ3nPwcl"
      }
    },
    {
      "cell_type": "code",
      "source": [
        "def prepare_data(batch_size):\n",
        "  transform=Compose([ToTensor(),Normalize((0.5),(0.5))])\n",
        "\n",
        "  trainset= MNIST(root='MNIST', download=True, transform=transform)\n",
        "  testset=MNIST(root='MNIST',download=True, train=False,transform=transform)\n",
        "  tarinset_size= round(len(trainset)*0.8)\n",
        "  validset_size= len(trainset)-tarinset_size\n",
        "  trainset, validset = rondom_split(trainset,[trainset_size, validset_size])\n",
        "\n",
        "  train_dl=Dataloader(trainset, batch_size=batch_size, shuffle=True)\n",
        "  valid_dl=Dataloader(validset, batch_size=batch_size, shuffle=False)\n",
        "  test_dl=Dataloader(testset, batch_size=batch_size, shuffle=True)\n",
        "  return train_dl, valid_dl, test_dl\n",
        "\n"
      ],
      "metadata": {
        "id": "VREepl-ZQH68"
      },
      "execution_count": null,
      "outputs": []
    },
    {
      "cell_type": "code",
      "source": [
        "class MLP (nn.Module):\n",
        "  def __init__(self,input_dim, N1,N2, output_dim):\n",
        "    super(MLP, self).__init__()\n",
        "    self.fl=nn.Flatten()\n",
        "    self.fc1 = nn.Linear(input_dim,N1)\n",
        "    self.fc2 = nn.Linear(N1,N2)\n",
        "    self.fc3= nn.Linear(N2, output_dim)\n",
        "    self.relu=nn.ReLU()\n",
        "\n",
        "  def forword(self, x):\n",
        "    x=self.fl(x)\n",
        "    out=self.dropout(sel.relu(self.fc1(x)))\n",
        "    out=self.dropout(sel.relu(self.fc2(out)))\n",
        "    out=self.fc3(out)\n",
        "    return out\n",
        "\n",
        "\n"
      ],
      "metadata": {
        "id": "2j-rbRkRWF_W"
      },
      "execution_count": null,
      "outputs": []
    },
    {
      "cell_type": "code",
      "source": [
        "model1=MLP(784,250,128,10)\n",
        "print(model1)"
      ],
      "metadata": {
        "colab": {
          "base_uri": "https://localhost:8080/"
        },
        "id": "0JdlTgiiaHEQ",
        "outputId": "b6f5e53d-eed2-4999-bc7f-6b61c4d51ca9"
      },
      "execution_count": null,
      "outputs": [
        {
          "output_type": "stream",
          "name": "stdout",
          "text": [
            "MLP(\n",
            "  (fl): Flatten(start_dim=1, end_dim=-1)\n",
            "  (fc1): Linear(in_features=784, out_features=250, bias=True)\n",
            "  (fc2): Linear(in_features=250, out_features=128, bias=True)\n",
            "  (fc3): Linear(in_features=128, out_features=10, bias=True)\n",
            "  (relu): ReLU()\n",
            ")\n"
          ]
        }
      ]
    }
  ]
}